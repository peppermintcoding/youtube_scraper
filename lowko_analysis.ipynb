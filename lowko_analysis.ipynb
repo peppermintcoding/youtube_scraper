{
 "cells": [
  {
   "cell_type": "code",
   "execution_count": 13,
   "metadata": {},
   "outputs": [],
   "source": [
    "import pandas as pd\n",
    "import seaborn as sns\n",
    "import os\n",
    "from googleapiclient.discovery import build"
   ]
  },
  {
   "cell_type": "code",
   "execution_count": 14,
   "metadata": {},
   "outputs": [],
   "source": [
    "API_KEY = os.environ[\"YOUTUBE_API_KEY\"]\n",
    "youtube = build(\"youtube\", \"v3\", developerKey=API_KEY)"
   ]
  },
  {
   "cell_type": "code",
   "execution_count": 15,
   "metadata": {},
   "outputs": [],
   "source": [
    "def get_channel_id(service, username):\n",
    "    response = service.channels().list(\n",
    "        part=\"contentDetails,statistics\",\n",
    "        forUsername=username\n",
    "    ).execute()\n",
    "    return response[\"items\"][0][\"id\"]"
   ]
  },
  {
   "cell_type": "code",
   "execution_count": 16,
   "metadata": {},
   "outputs": [],
   "source": [
    "CHANNEL_ID = get_channel_id(youtube, \"Felixje0\")"
   ]
  },
  {
   "cell_type": "code",
   "execution_count": 17,
   "metadata": {},
   "outputs": [],
   "source": [
    "def get_upload_id(service, channel_id):\n",
    "    response = service.channels().list(\n",
    "        part=\"contentDetails,statistics\",\n",
    "        id=channel_id\n",
    "    ).execute()\n",
    "    return response[\"items\"][0][\"contentDetails\"][\"relatedPlaylists\"][\"uploads\"]"
   ]
  },
  {
   "cell_type": "code",
   "execution_count": 18,
   "metadata": {},
   "outputs": [],
   "source": [
    "UPLOAD_ID = get_upload_id(youtube, CHANNEL_ID)"
   ]
  },
  {
   "cell_type": "code",
   "execution_count": 19,
   "metadata": {},
   "outputs": [],
   "source": [
    "def get_video_ids(service, upload_id):\n",
    "    video_ids = []\n",
    "\n",
    "    response = service.playlistItems().list(\n",
    "        part=\"contentDetails\",\n",
    "        playlistId=upload_id,\n",
    "        maxResults=50\n",
    "    ).execute()\n",
    "\n",
    "    for video in response[\"items\"]:\n",
    "        video_ids.append(video[\"contentDetails\"][\"videoId\"])\n",
    "    \n",
    "    next_page_token = response.get(\"nextPageToken\")\n",
    "    while next_page_token:\n",
    "        response = service.playlistItems().list(\n",
    "            part=\"contentDetails\",\n",
    "            playlistId=upload_id,\n",
    "            maxResults=50,\n",
    "            pageToken=next_page_token\n",
    "        ).execute()\n",
    "\n",
    "        for video in response[\"items\"]:\n",
    "            video_ids.append(video[\"contentDetails\"][\"videoId\"])\n",
    "\n",
    "        next_page_token = response.get(\"nextPageToken\")\n",
    "\n",
    "    return video_ids"
   ]
  },
  {
   "cell_type": "code",
   "execution_count": 20,
   "metadata": {},
   "outputs": [
    {
     "data": {
      "text/plain": [
       "3819"
      ]
     },
     "execution_count": 20,
     "metadata": {},
     "output_type": "execute_result"
    }
   ],
   "source": [
    "video_ids = get_video_ids(youtube, UPLOAD_ID)\n",
    "len(video_ids)"
   ]
  }
 ],
 "metadata": {
  "kernelspec": {
   "display_name": "Python 3.10.4 64-bit",
   "language": "python",
   "name": "python3"
  },
  "language_info": {
   "codemirror_mode": {
    "name": "ipython",
    "version": 3
   },
   "file_extension": ".py",
   "mimetype": "text/x-python",
   "name": "python",
   "nbconvert_exporter": "python",
   "pygments_lexer": "ipython3",
   "version": "3.10.4"
  },
  "orig_nbformat": 4,
  "vscode": {
   "interpreter": {
    "hash": "3ad933181bd8a04b432d3370b9dc3b0662ad032c4dfaa4e4f1596c548f763858"
   }
  }
 },
 "nbformat": 4,
 "nbformat_minor": 2
}
